{
 "cells": [
  {
   "cell_type": "markdown",
   "metadata": {},
   "source": [
    "Author: Shinelink\n",
    "This program generates a h5py file for Relation Net and is inspired by the codes at:\n",
    "\n",
    "https://mi-prometheus.readthedocs.io/en/v0.3.1/_modules/miprometheus/problems/image_text_to_class/sort_of_clevr.html\n"
   ]
  },
  {
   "cell_type": "code",
   "execution_count": 4,
   "metadata": {},
   "outputs": [
    {
     "name": "stderr",
     "output_type": "stream",
     "text": [
      "\n",
      "  0%|          | 0.00/300 [00:00<?, ? samples/s]\u001b[A\n",
      " 82%|████████▏ | 245/300 [00:00<00:00, 2.44k samples/s, file=Mytest4.hy]\u001b[A\n",
      "100%|██████████| 300/300 [00:00<00:00, 2.39k samples/s, file=Mytest4.hy]\u001b[A"
     ]
    }
   ],
   "source": [
    "\n",
    "    \n",
    "import h5py\n",
    "import numpy as np\n",
    "import os\n",
    "import tqdm\n",
    "from PIL import Image, ImageDraw\n",
    "\n",
    "def generate_image():\n",
    "    # Generate image [img_size, img_size, 3]\n",
    "    img = Image.new('RGB', (128, 128))    \n",
    "\n",
    "    # Cast to np.\n",
    "    return np.array(img)\n",
    "\n",
    "def generate_question_matrix():\n",
    "    #  for i, obj in enumerate(objects):\n",
    "    Q = np.zeros(11, dtype=np.float32)\n",
    "    return Q\n",
    "\n",
    "def generate_answer_matrix():\n",
    "    A = np.zeros(10, dtype=np.float32)    \n",
    "    return A\n",
    "\n",
    "def generate_h5py_dataset(path, filename):       \n",
    "    # open the HDF5 file. \n",
    "    dataset_size = 300\n",
    "    NumofQuestions = 1\n",
    "    FullFilePath = os.path.join(path, filename)\n",
    "\n",
    "    if os.path.exists(FullFilePath):     \n",
    "        print('file already exist')\n",
    "    else:\n",
    "        file = h5py.File(FullFilePath, 'w')\n",
    "\n",
    "        # progress bar\n",
    "        t = tqdm.tqdm(total=dataset_size, unit=\" samples\", unit_scale=True, unit_divisor=1000)  # Initialise\n",
    "        t.set_postfix(file=filename, refresh=False)\n",
    "        count = 0\n",
    "\n",
    "         # Iterate through all questions generated for a given scene.\n",
    "        while count < NumofQuestions:\n",
    "\n",
    "            # Generate the scene.\n",
    "            # objects = generate_scene_representation()\n",
    "\n",
    "            # Generate corresponding image, questions and answers.\n",
    "            I = generate_image()  # return np.array(img)\n",
    "            Q = generate_question_matrix()  # np.zeros(..)\n",
    "            A = generate_answer_matrix() # np.zeros(..)\n",
    "\n",
    "            # Iterate through all questions generated for a given scene.\n",
    "            for j in range(300):\n",
    "\n",
    "                # Create new group.\n",
    "                id = str(count)\n",
    "                grp = file.create_group(id)\n",
    "\n",
    "                # Set data.\n",
    "                grp['image'] = I\n",
    "                grp['question'] = Q\n",
    "                grp['answer'] = A            \n",
    "\n",
    "                # Increment counter.\n",
    "                count += 1\n",
    "                t.update()\n",
    "\n",
    "                # Check whether we generated the required number of samples\n",
    "                if count >= dataset_size:\n",
    "                    break\n",
    "\n",
    "        # Finalize the generation.\n",
    "        t.close()\n",
    "        file.close()\n",
    "\n",
    "path = 'datasets/Sort-of-CLEVR_default'\n",
    "file = 'Mytest4.hy'       \n",
    "generate_h5py_dataset(path, file)    "
   ]
  },
  {
   "cell_type": "code",
   "execution_count": null,
   "metadata": {
    "collapsed": true
   },
   "outputs": [],
   "source": []
  },
  {
   "cell_type": "code",
   "execution_count": null,
   "metadata": {
    "collapsed": true
   },
   "outputs": [],
   "source": []
  }
 ],
 "metadata": {
  "kernelspec": {
   "display_name": "Python 3",
   "language": "python",
   "name": "python3"
  },
  "language_info": {
   "codemirror_mode": {
    "name": "ipython",
    "version": 3
   },
   "file_extension": ".py",
   "mimetype": "text/x-python",
   "name": "python",
   "nbconvert_exporter": "python",
   "pygments_lexer": "ipython3",
   "version": "3.6.4"
  }
 },
 "nbformat": 4,
 "nbformat_minor": 2
}
